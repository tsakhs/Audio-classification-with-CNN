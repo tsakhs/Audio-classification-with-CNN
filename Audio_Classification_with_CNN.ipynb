{
  "metadata": {
    "kernelspec": {
      "language": "python",
      "display_name": "Python 3",
      "name": "python3"
    },
    "language_info": {
      "name": "python",
      "version": "3.10.14",
      "mimetype": "text/x-python",
      "codemirror_mode": {
        "name": "ipython",
        "version": 3
      },
      "pygments_lexer": "ipython3",
      "nbconvert_exporter": "python",
      "file_extension": ".py"
    },
    "kaggle": {
      "accelerator": "nvidiaTeslaT4",
      "dataSources": [
        {
          "sourceId": 928025,
          "sourceType": "datasetVersion",
          "datasetId": 500970
        }
      ],
      "dockerImageVersionId": 30786,
      "isInternetEnabled": true,
      "language": "python",
      "sourceType": "notebook",
      "isGpuEnabled": true
    },
    "colab": {
      "provenance": [],
      "toc_visible": true
    }
  },
  "nbformat_minor": 0,
  "nbformat": 4,
  "cells": [
    {
      "source": [
        "import kagglehub\n",
        "chrisfilo_urbansound8k_path = kagglehub.dataset_download('chrisfilo/urbansound8k')\n",
        "\n",
        "print('Data source import complete.')\n"
      ],
      "metadata": {
        "id": "yx9QcYo81j_5",
        "outputId": "2ad7cdd9-ec9f-4ec5-a74a-282abd28ae9e",
        "colab": {
          "base_uri": "https://localhost:8080/",
          "height": 0
        }
      },
      "cell_type": "code",
      "outputs": [
        {
          "output_type": "stream",
          "name": "stdout",
          "text": [
            "Downloading from https://www.kaggle.com/api/v1/datasets/download/chrisfilo/urbansound8k?dataset_version_number=1...\n"
          ]
        },
        {
          "output_type": "stream",
          "name": "stderr",
          "text": [
            "100%|██████████| 5.61G/5.61G [01:27<00:00, 69.1MB/s]"
          ]
        },
        {
          "output_type": "stream",
          "name": "stdout",
          "text": [
            "Extracting files...\n"
          ]
        },
        {
          "output_type": "stream",
          "name": "stderr",
          "text": [
            "\n"
          ]
        },
        {
          "output_type": "stream",
          "name": "stdout",
          "text": [
            "Data source import complete.\n"
          ]
        }
      ],
      "execution_count": 1
    },
    {
      "cell_type": "markdown",
      "source": [
        "# Κατηγοριοποίηση ΄Ηχου με CNN\n",
        "\n",
        "Αυτό το project δείχνει πώς να ταξινομήσετε ηχητικά αρχεία χρησιμοποιώντας τεχνικές βαθιάς μάθησης, συγκεκριμένα εξάγοντας χαρακτηριστικά από αρχεία ήχου και εκπαιδεύοντας ένα Συνελικτικό Νευρωνικό Δίκτυο (CNN)."
      ],
      "metadata": {
        "id": "zVOUHrhn1j_6"
      }
    },
    {
      "cell_type": "markdown",
      "source": [
        "## Φόρτωση αναγκαίων βιβλιοθηκών"
      ],
      "metadata": {
        "id": "R9c3-6co1j_7"
      }
    },
    {
      "cell_type": "code",
      "source": [
        "import os\n",
        "import librosa\n",
        "import numpy as np\n",
        "import pandas as pd\n",
        "import tensorflow as tf\n",
        "from sklearn.model_selection import train_test_split\n",
        "from sklearn.preprocessing import LabelEncoder\n",
        "from sklearn.metrics import classification_report\n",
        "from tensorflow.keras.utils import to_categorical\n",
        "from tensorflow.keras.models import Sequential\n",
        "from tensorflow.keras.layers import Dense, Dropout, Flatten, Conv2D, MaxPooling2D\n",
        "import warnings\n",
        "warnings.filterwarnings('ignore')"
      ],
      "metadata": {
        "execution": {
          "iopub.status.busy": "2024-10-15T15:59:03.238892Z",
          "iopub.execute_input": "2024-10-15T15:59:03.239593Z",
          "iopub.status.idle": "2024-10-15T15:59:15.952074Z",
          "shell.execute_reply.started": "2024-10-15T15:59:03.239546Z",
          "shell.execute_reply": "2024-10-15T15:59:15.95126Z"
        },
        "trusted": true,
        "id": "uPEz6n3x1j_8"
      },
      "outputs": [],
      "execution_count": 2
    },
    {
      "cell_type": "markdown",
      "source": [
        "## Φόρτωση του Συνόλου Δεδομένων\n",
        "\n",
        "Αυτό το βήμα διαβάζει τα metadata του συνόλου δεδομένων UrbanSound8K από ένα αρχείο CSV σε ένα DataFrame της Pandas. Τα metadata περιλαμβάνουν πληροφορίες για τα αρχεία ήχου, όπως τις ετικέτες κλάσεων τους και τις διαδρομές των αρχείων."
      ],
      "metadata": {
        "id": "TxTRQudR1j_8"
      }
    },
    {
      "cell_type": "code",
      "source": [
        "metadata = pd.read_csv('/root/.cache/kagglehub/datasets/chrisfilo/urbansound8k/versions/1/UrbanSound8K.csv')"
      ],
      "metadata": {
        "execution": {
          "iopub.status.busy": "2024-10-15T15:59:15.953764Z",
          "iopub.execute_input": "2024-10-15T15:59:15.954298Z",
          "iopub.status.idle": "2024-10-15T15:59:15.998888Z",
          "shell.execute_reply.started": "2024-10-15T15:59:15.954262Z",
          "shell.execute_reply": "2024-10-15T15:59:15.998015Z"
        },
        "trusted": true,
        "id": "LkhM6QY81j_9"
      },
      "outputs": [],
      "execution_count": 3
    },
    {
      "cell_type": "code",
      "source": [
        "metadata.head()"
      ],
      "metadata": {
        "execution": {
          "iopub.status.busy": "2024-10-15T15:59:16.000008Z",
          "iopub.execute_input": "2024-10-15T15:59:16.000467Z",
          "iopub.status.idle": "2024-10-15T15:59:16.021053Z",
          "shell.execute_reply.started": "2024-10-15T15:59:16.000416Z",
          "shell.execute_reply": "2024-10-15T15:59:16.020188Z"
        },
        "trusted": true,
        "id": "_SZCDiov1j_9",
        "outputId": "6870efbd-12d8-4474-85ec-e38e3e8ed596",
        "colab": {
          "base_uri": "https://localhost:8080/",
          "height": 206
        }
      },
      "outputs": [
        {
          "output_type": "execute_result",
          "data": {
            "text/plain": [
              "      slice_file_name    fsID  start        end  salience  fold  classID  \\\n",
              "0    100032-3-0-0.wav  100032    0.0   0.317551         1     5        3   \n",
              "1  100263-2-0-117.wav  100263   58.5  62.500000         1     5        2   \n",
              "2  100263-2-0-121.wav  100263   60.5  64.500000         1     5        2   \n",
              "3  100263-2-0-126.wav  100263   63.0  67.000000         1     5        2   \n",
              "4  100263-2-0-137.wav  100263   68.5  72.500000         1     5        2   \n",
              "\n",
              "              class  \n",
              "0          dog_bark  \n",
              "1  children_playing  \n",
              "2  children_playing  \n",
              "3  children_playing  \n",
              "4  children_playing  "
            ],
            "text/html": [
              "\n",
              "  <div id=\"df-fff27926-29ce-43e4-9b5f-b323c3a28ff4\" class=\"colab-df-container\">\n",
              "    <div>\n",
              "<style scoped>\n",
              "    .dataframe tbody tr th:only-of-type {\n",
              "        vertical-align: middle;\n",
              "    }\n",
              "\n",
              "    .dataframe tbody tr th {\n",
              "        vertical-align: top;\n",
              "    }\n",
              "\n",
              "    .dataframe thead th {\n",
              "        text-align: right;\n",
              "    }\n",
              "</style>\n",
              "<table border=\"1\" class=\"dataframe\">\n",
              "  <thead>\n",
              "    <tr style=\"text-align: right;\">\n",
              "      <th></th>\n",
              "      <th>slice_file_name</th>\n",
              "      <th>fsID</th>\n",
              "      <th>start</th>\n",
              "      <th>end</th>\n",
              "      <th>salience</th>\n",
              "      <th>fold</th>\n",
              "      <th>classID</th>\n",
              "      <th>class</th>\n",
              "    </tr>\n",
              "  </thead>\n",
              "  <tbody>\n",
              "    <tr>\n",
              "      <th>0</th>\n",
              "      <td>100032-3-0-0.wav</td>\n",
              "      <td>100032</td>\n",
              "      <td>0.0</td>\n",
              "      <td>0.317551</td>\n",
              "      <td>1</td>\n",
              "      <td>5</td>\n",
              "      <td>3</td>\n",
              "      <td>dog_bark</td>\n",
              "    </tr>\n",
              "    <tr>\n",
              "      <th>1</th>\n",
              "      <td>100263-2-0-117.wav</td>\n",
              "      <td>100263</td>\n",
              "      <td>58.5</td>\n",
              "      <td>62.500000</td>\n",
              "      <td>1</td>\n",
              "      <td>5</td>\n",
              "      <td>2</td>\n",
              "      <td>children_playing</td>\n",
              "    </tr>\n",
              "    <tr>\n",
              "      <th>2</th>\n",
              "      <td>100263-2-0-121.wav</td>\n",
              "      <td>100263</td>\n",
              "      <td>60.5</td>\n",
              "      <td>64.500000</td>\n",
              "      <td>1</td>\n",
              "      <td>5</td>\n",
              "      <td>2</td>\n",
              "      <td>children_playing</td>\n",
              "    </tr>\n",
              "    <tr>\n",
              "      <th>3</th>\n",
              "      <td>100263-2-0-126.wav</td>\n",
              "      <td>100263</td>\n",
              "      <td>63.0</td>\n",
              "      <td>67.000000</td>\n",
              "      <td>1</td>\n",
              "      <td>5</td>\n",
              "      <td>2</td>\n",
              "      <td>children_playing</td>\n",
              "    </tr>\n",
              "    <tr>\n",
              "      <th>4</th>\n",
              "      <td>100263-2-0-137.wav</td>\n",
              "      <td>100263</td>\n",
              "      <td>68.5</td>\n",
              "      <td>72.500000</td>\n",
              "      <td>1</td>\n",
              "      <td>5</td>\n",
              "      <td>2</td>\n",
              "      <td>children_playing</td>\n",
              "    </tr>\n",
              "  </tbody>\n",
              "</table>\n",
              "</div>\n",
              "    <div class=\"colab-df-buttons\">\n",
              "\n",
              "  <div class=\"colab-df-container\">\n",
              "    <button class=\"colab-df-convert\" onclick=\"convertToInteractive('df-fff27926-29ce-43e4-9b5f-b323c3a28ff4')\"\n",
              "            title=\"Convert this dataframe to an interactive table.\"\n",
              "            style=\"display:none;\">\n",
              "\n",
              "  <svg xmlns=\"http://www.w3.org/2000/svg\" height=\"24px\" viewBox=\"0 -960 960 960\">\n",
              "    <path d=\"M120-120v-720h720v720H120Zm60-500h600v-160H180v160Zm220 220h160v-160H400v160Zm0 220h160v-160H400v160ZM180-400h160v-160H180v160Zm440 0h160v-160H620v160ZM180-180h160v-160H180v160Zm440 0h160v-160H620v160Z\"/>\n",
              "  </svg>\n",
              "    </button>\n",
              "\n",
              "  <style>\n",
              "    .colab-df-container {\n",
              "      display:flex;\n",
              "      gap: 12px;\n",
              "    }\n",
              "\n",
              "    .colab-df-convert {\n",
              "      background-color: #E8F0FE;\n",
              "      border: none;\n",
              "      border-radius: 50%;\n",
              "      cursor: pointer;\n",
              "      display: none;\n",
              "      fill: #1967D2;\n",
              "      height: 32px;\n",
              "      padding: 0 0 0 0;\n",
              "      width: 32px;\n",
              "    }\n",
              "\n",
              "    .colab-df-convert:hover {\n",
              "      background-color: #E2EBFA;\n",
              "      box-shadow: 0px 1px 2px rgba(60, 64, 67, 0.3), 0px 1px 3px 1px rgba(60, 64, 67, 0.15);\n",
              "      fill: #174EA6;\n",
              "    }\n",
              "\n",
              "    .colab-df-buttons div {\n",
              "      margin-bottom: 4px;\n",
              "    }\n",
              "\n",
              "    [theme=dark] .colab-df-convert {\n",
              "      background-color: #3B4455;\n",
              "      fill: #D2E3FC;\n",
              "    }\n",
              "\n",
              "    [theme=dark] .colab-df-convert:hover {\n",
              "      background-color: #434B5C;\n",
              "      box-shadow: 0px 1px 3px 1px rgba(0, 0, 0, 0.15);\n",
              "      filter: drop-shadow(0px 1px 2px rgba(0, 0, 0, 0.3));\n",
              "      fill: #FFFFFF;\n",
              "    }\n",
              "  </style>\n",
              "\n",
              "    <script>\n",
              "      const buttonEl =\n",
              "        document.querySelector('#df-fff27926-29ce-43e4-9b5f-b323c3a28ff4 button.colab-df-convert');\n",
              "      buttonEl.style.display =\n",
              "        google.colab.kernel.accessAllowed ? 'block' : 'none';\n",
              "\n",
              "      async function convertToInteractive(key) {\n",
              "        const element = document.querySelector('#df-fff27926-29ce-43e4-9b5f-b323c3a28ff4');\n",
              "        const dataTable =\n",
              "          await google.colab.kernel.invokeFunction('convertToInteractive',\n",
              "                                                    [key], {});\n",
              "        if (!dataTable) return;\n",
              "\n",
              "        const docLinkHtml = 'Like what you see? Visit the ' +\n",
              "          '<a target=\"_blank\" href=https://colab.research.google.com/notebooks/data_table.ipynb>data table notebook</a>'\n",
              "          + ' to learn more about interactive tables.';\n",
              "        element.innerHTML = '';\n",
              "        dataTable['output_type'] = 'display_data';\n",
              "        await google.colab.output.renderOutput(dataTable, element);\n",
              "        const docLink = document.createElement('div');\n",
              "        docLink.innerHTML = docLinkHtml;\n",
              "        element.appendChild(docLink);\n",
              "      }\n",
              "    </script>\n",
              "  </div>\n",
              "\n",
              "\n",
              "<div id=\"df-e948b445-8580-452e-ab6e-f5762c868dc2\">\n",
              "  <button class=\"colab-df-quickchart\" onclick=\"quickchart('df-e948b445-8580-452e-ab6e-f5762c868dc2')\"\n",
              "            title=\"Suggest charts\"\n",
              "            style=\"display:none;\">\n",
              "\n",
              "<svg xmlns=\"http://www.w3.org/2000/svg\" height=\"24px\"viewBox=\"0 0 24 24\"\n",
              "     width=\"24px\">\n",
              "    <g>\n",
              "        <path d=\"M19 3H5c-1.1 0-2 .9-2 2v14c0 1.1.9 2 2 2h14c1.1 0 2-.9 2-2V5c0-1.1-.9-2-2-2zM9 17H7v-7h2v7zm4 0h-2V7h2v10zm4 0h-2v-4h2v4z\"/>\n",
              "    </g>\n",
              "</svg>\n",
              "  </button>\n",
              "\n",
              "<style>\n",
              "  .colab-df-quickchart {\n",
              "      --bg-color: #E8F0FE;\n",
              "      --fill-color: #1967D2;\n",
              "      --hover-bg-color: #E2EBFA;\n",
              "      --hover-fill-color: #174EA6;\n",
              "      --disabled-fill-color: #AAA;\n",
              "      --disabled-bg-color: #DDD;\n",
              "  }\n",
              "\n",
              "  [theme=dark] .colab-df-quickchart {\n",
              "      --bg-color: #3B4455;\n",
              "      --fill-color: #D2E3FC;\n",
              "      --hover-bg-color: #434B5C;\n",
              "      --hover-fill-color: #FFFFFF;\n",
              "      --disabled-bg-color: #3B4455;\n",
              "      --disabled-fill-color: #666;\n",
              "  }\n",
              "\n",
              "  .colab-df-quickchart {\n",
              "    background-color: var(--bg-color);\n",
              "    border: none;\n",
              "    border-radius: 50%;\n",
              "    cursor: pointer;\n",
              "    display: none;\n",
              "    fill: var(--fill-color);\n",
              "    height: 32px;\n",
              "    padding: 0;\n",
              "    width: 32px;\n",
              "  }\n",
              "\n",
              "  .colab-df-quickchart:hover {\n",
              "    background-color: var(--hover-bg-color);\n",
              "    box-shadow: 0 1px 2px rgba(60, 64, 67, 0.3), 0 1px 3px 1px rgba(60, 64, 67, 0.15);\n",
              "    fill: var(--button-hover-fill-color);\n",
              "  }\n",
              "\n",
              "  .colab-df-quickchart-complete:disabled,\n",
              "  .colab-df-quickchart-complete:disabled:hover {\n",
              "    background-color: var(--disabled-bg-color);\n",
              "    fill: var(--disabled-fill-color);\n",
              "    box-shadow: none;\n",
              "  }\n",
              "\n",
              "  .colab-df-spinner {\n",
              "    border: 2px solid var(--fill-color);\n",
              "    border-color: transparent;\n",
              "    border-bottom-color: var(--fill-color);\n",
              "    animation:\n",
              "      spin 1s steps(1) infinite;\n",
              "  }\n",
              "\n",
              "  @keyframes spin {\n",
              "    0% {\n",
              "      border-color: transparent;\n",
              "      border-bottom-color: var(--fill-color);\n",
              "      border-left-color: var(--fill-color);\n",
              "    }\n",
              "    20% {\n",
              "      border-color: transparent;\n",
              "      border-left-color: var(--fill-color);\n",
              "      border-top-color: var(--fill-color);\n",
              "    }\n",
              "    30% {\n",
              "      border-color: transparent;\n",
              "      border-left-color: var(--fill-color);\n",
              "      border-top-color: var(--fill-color);\n",
              "      border-right-color: var(--fill-color);\n",
              "    }\n",
              "    40% {\n",
              "      border-color: transparent;\n",
              "      border-right-color: var(--fill-color);\n",
              "      border-top-color: var(--fill-color);\n",
              "    }\n",
              "    60% {\n",
              "      border-color: transparent;\n",
              "      border-right-color: var(--fill-color);\n",
              "    }\n",
              "    80% {\n",
              "      border-color: transparent;\n",
              "      border-right-color: var(--fill-color);\n",
              "      border-bottom-color: var(--fill-color);\n",
              "    }\n",
              "    90% {\n",
              "      border-color: transparent;\n",
              "      border-bottom-color: var(--fill-color);\n",
              "    }\n",
              "  }\n",
              "</style>\n",
              "\n",
              "  <script>\n",
              "    async function quickchart(key) {\n",
              "      const quickchartButtonEl =\n",
              "        document.querySelector('#' + key + ' button');\n",
              "      quickchartButtonEl.disabled = true;  // To prevent multiple clicks.\n",
              "      quickchartButtonEl.classList.add('colab-df-spinner');\n",
              "      try {\n",
              "        const charts = await google.colab.kernel.invokeFunction(\n",
              "            'suggestCharts', [key], {});\n",
              "      } catch (error) {\n",
              "        console.error('Error during call to suggestCharts:', error);\n",
              "      }\n",
              "      quickchartButtonEl.classList.remove('colab-df-spinner');\n",
              "      quickchartButtonEl.classList.add('colab-df-quickchart-complete');\n",
              "    }\n",
              "    (() => {\n",
              "      let quickchartButtonEl =\n",
              "        document.querySelector('#df-e948b445-8580-452e-ab6e-f5762c868dc2 button');\n",
              "      quickchartButtonEl.style.display =\n",
              "        google.colab.kernel.accessAllowed ? 'block' : 'none';\n",
              "    })();\n",
              "  </script>\n",
              "</div>\n",
              "\n",
              "    </div>\n",
              "  </div>\n"
            ],
            "application/vnd.google.colaboratory.intrinsic+json": {
              "type": "dataframe",
              "variable_name": "metadata",
              "summary": "{\n  \"name\": \"metadata\",\n  \"rows\": 8732,\n  \"fields\": [\n    {\n      \"column\": \"slice_file_name\",\n      \"properties\": {\n        \"dtype\": \"string\",\n        \"num_unique_values\": 8732,\n        \"samples\": [\n          \"54898-8-0-2.wav\",\n          \"172338-9-0-7.wav\",\n          \"95562-4-3-0.wav\"\n        ],\n        \"semantic_type\": \"\",\n        \"description\": \"\"\n      }\n    },\n    {\n      \"column\": \"fsID\",\n      \"properties\": {\n        \"dtype\": \"number\",\n        \"std\": 57991,\n        \"min\": 344,\n        \"max\": 209992,\n        \"num_unique_values\": 1297,\n        \"samples\": [\n          180257,\n          157940,\n          20015\n        ],\n        \"semantic_type\": \"\",\n        \"description\": \"\"\n      }\n    },\n    {\n      \"column\": \"start\",\n      \"properties\": {\n        \"dtype\": \"number\",\n        \"std\": 74.29212630755417,\n        \"min\": 0.0,\n        \"max\": 600.125356,\n        \"num_unique_values\": 4878,\n        \"samples\": [\n          10.038318,\n          5.711988,\n          4.634753\n        ],\n        \"semantic_type\": \"\",\n        \"description\": \"\"\n      }\n    },\n    {\n      \"column\": \"end\",\n      \"properties\": {\n        \"dtype\": \"number\",\n        \"std\": 74.36966935075809,\n        \"min\": 0.105962,\n        \"max\": 604.125356,\n        \"num_unique_values\": 5020,\n        \"samples\": [\n          13.168347,\n          2.653802,\n          10.286916\n        ],\n        \"semantic_type\": \"\",\n        \"description\": \"\"\n      }\n    },\n    {\n      \"column\": \"salience\",\n      \"properties\": {\n        \"dtype\": \"number\",\n        \"std\": 0,\n        \"min\": 1,\n        \"max\": 2,\n        \"num_unique_values\": 2,\n        \"samples\": [\n          2,\n          1\n        ],\n        \"semantic_type\": \"\",\n        \"description\": \"\"\n      }\n    },\n    {\n      \"column\": \"fold\",\n      \"properties\": {\n        \"dtype\": \"number\",\n        \"std\": 2,\n        \"min\": 1,\n        \"max\": 10,\n        \"num_unique_values\": 10,\n        \"samples\": [\n          3,\n          10\n        ],\n        \"semantic_type\": \"\",\n        \"description\": \"\"\n      }\n    },\n    {\n      \"column\": \"classID\",\n      \"properties\": {\n        \"dtype\": \"number\",\n        \"std\": 2,\n        \"min\": 0,\n        \"max\": 9,\n        \"num_unique_values\": 10,\n        \"samples\": [\n          7,\n          2\n        ],\n        \"semantic_type\": \"\",\n        \"description\": \"\"\n      }\n    },\n    {\n      \"column\": \"class\",\n      \"properties\": {\n        \"dtype\": \"category\",\n        \"num_unique_values\": 10,\n        \"samples\": [\n          \"jackhammer\",\n          \"children_playing\"\n        ],\n        \"semantic_type\": \"\",\n        \"description\": \"\"\n      }\n    }\n  ]\n}"
            }
          },
          "metadata": {},
          "execution_count": 4
        }
      ],
      "execution_count": 4
    },
    {
      "cell_type": "markdown",
      "source": [
        "## Εξαγωγή χαρακτηριστικών από τα αρχεία ήχου"
      ],
      "metadata": {
        "execution": {
          "iopub.status.busy": "2024-10-15T15:43:35.53729Z",
          "iopub.execute_input": "2024-10-15T15:43:35.53768Z",
          "iopub.status.idle": "2024-10-15T15:43:35.542669Z",
          "shell.execute_reply.started": "2024-10-15T15:43:35.53764Z",
          "shell.execute_reply": "2024-10-15T15:43:35.541785Z"
        },
        "id": "paeicRzk1j_-"
      }
    },
    {
      "cell_type": "code",
      "source": [
        "def extract_features(file_path):\n",
        "    y, sr = librosa.load(file_path, duration=4.0)\n",
        "    n_fft = min(2048, len(y) // 2)\n",
        "    mfcc = librosa.feature.mfcc(y=y, sr=sr, n_mfcc=40, n_fft=n_fft)\n",
        "    mfcc_scaled = np.mean(mfcc.T, axis=0)\n",
        "    return mfcc_scaled"
      ],
      "metadata": {
        "execution": {
          "iopub.status.busy": "2024-10-15T15:59:16.022274Z",
          "iopub.execute_input": "2024-10-15T15:59:16.022624Z",
          "iopub.status.idle": "2024-10-15T15:59:16.027785Z",
          "shell.execute_reply.started": "2024-10-15T15:59:16.022583Z",
          "shell.execute_reply": "2024-10-15T15:59:16.026928Z"
        },
        "trusted": true,
        "id": "_VtYUuiI1j_-"
      },
      "outputs": [],
      "execution_count": 5
    },
    {
      "cell_type": "markdown",
      "source": [
        "**Η συνάρτηση `extract_features` φορτώνει ένα αρχείο ήχου, εξάγει τα χαρακτηριστικά MFCC του, και επιστρέφει τον μέσο όρο των MFCC στο χρόνο. Τα MFCC χρησιμοποιούνται συχνά στην επεξεργασία ήχου για να αναπαραστήσουν το βραχυπρόθεσμο φάσμα ισχύος του ήχου.**"
      ],
      "metadata": {
        "id": "P9SWutNq1j__"
      }
    },
    {
      "cell_type": "code",
      "source": [
        "def prepare_dataset(metadata, dataset_path):\n",
        "    features = []\n",
        "    labels = []\n",
        "\n",
        "    for i, row in metadata.iterrows():\n",
        "        file_name = os.path.join(dataset_path, 'fold' + str(row[\"fold\"]), str(row[\"slice_file_name\"]))\n",
        "        class_label = row[\"class\"]\n",
        "        try:\n",
        "            mfccs = extract_features(file_name)\n",
        "            features.append(mfccs)\n",
        "            labels.append(class_label)\n",
        "        except Exception as e:\n",
        "            print(f\"Error loading {file_name}: {e}\")\n",
        "\n",
        "    return np.array(features), np.array(labels)"
      ],
      "metadata": {
        "execution": {
          "iopub.status.busy": "2024-10-15T15:59:16.030957Z",
          "iopub.execute_input": "2024-10-15T15:59:16.031469Z",
          "iopub.status.idle": "2024-10-15T15:59:16.038532Z",
          "shell.execute_reply.started": "2024-10-15T15:59:16.031426Z",
          "shell.execute_reply": "2024-10-15T15:59:16.037723Z"
        },
        "trusted": true,
        "id": "ktwCBNpS1j__"
      },
      "outputs": [],
      "execution_count": 6
    },
    {
      "cell_type": "markdown",
      "source": [
        "+ Η συνάρτηση prepare_dataset διατρέχει κάθε γραμμή στα metadata, κατασκευάζει τη διαδρομή αρχείου για κάθε αρχείο ήχου, και εξάγει τα χαρακτηριστικά του χρησιμοποιώντας την προηγουμένως ορισμένη συνάρτηση extract_features. Τα χαρακτηριστικά και οι αντίστοιχες ετικέτες αποθηκεύονται σε λίστες και επιστρέφονται ως πίνακες NumPy."
      ],
      "metadata": {
        "id": "QJVzs72x1j__"
      }
    },
    {
      "cell_type": "markdown",
      "source": [
        "## Φόρτωση και Προεπεξεργασία Συνόλου Δεδομένων"
      ],
      "metadata": {
        "id": "70t_aPMv1kAA"
      }
    },
    {
      "cell_type": "code",
      "source": [
        "dataset_path = '/root/.cache/kagglehub/datasets/chrisfilo/urbansound8k/versions/1'"
      ],
      "metadata": {
        "execution": {
          "iopub.status.busy": "2024-10-15T15:59:16.039509Z",
          "iopub.execute_input": "2024-10-15T15:59:16.039768Z",
          "iopub.status.idle": "2024-10-15T15:59:16.047945Z",
          "shell.execute_reply.started": "2024-10-15T15:59:16.03974Z",
          "shell.execute_reply": "2024-10-15T15:59:16.047069Z"
        },
        "trusted": true,
        "id": "y36Rx0MK1kAA"
      },
      "outputs": [],
      "execution_count": 7
    },
    {
      "cell_type": "code",
      "source": [
        "X, y = prepare_dataset(metadata, dataset_path)"
      ],
      "metadata": {
        "execution": {
          "iopub.status.busy": "2024-10-15T15:59:16.048921Z",
          "iopub.execute_input": "2024-10-15T15:59:16.049208Z",
          "iopub.status.idle": "2024-10-15T16:06:03.156655Z",
          "shell.execute_reply.started": "2024-10-15T15:59:16.049167Z",
          "shell.execute_reply": "2024-10-15T16:06:03.155196Z"
        },
        "trusted": true,
        "id": "oojvhBjO1kAA"
      },
      "outputs": [],
      "execution_count": 8
    },
    {
      "cell_type": "markdown",
      "source": [
        "**Αυτός ο κώδικας καθορίζει τη διαδρομή του συνόλου δεδομένων, στη συνέχεια καλεί τη συνάρτηση `prepare_dataset` για να φορτώσει τα δεδομένα ήχου και να εξάγει τα χαρακτηριστικά και τις ετικέτες. Τα χαρακτηριστικά αποθηκεύονται στο `X`, και οι ετικέτες αποθηκεύονται στο `y`.**"
      ],
      "metadata": {
        "id": "82TB9oOp1kAA"
      }
    },
    {
      "cell_type": "markdown",
      "source": [
        "## Κωδικοποίηση Ετικετών"
      ],
      "metadata": {
        "id": "ciF1lgjM1kAA"
      }
    },
    {
      "cell_type": "code",
      "source": [
        "le = LabelEncoder()\n",
        "y_encoded = to_categorical(le.fit_transform(y))"
      ],
      "metadata": {
        "execution": {
          "iopub.status.busy": "2024-10-15T16:06:03.163839Z",
          "iopub.execute_input": "2024-10-15T16:06:03.16806Z",
          "iopub.status.idle": "2024-10-15T16:06:03.180195Z",
          "shell.execute_reply.started": "2024-10-15T16:06:03.167986Z",
          "shell.execute_reply": "2024-10-15T16:06:03.178742Z"
        },
        "trusted": true,
        "id": "bpbPk-jf1kAB"
      },
      "outputs": [],
      "execution_count": 9
    },
    {
      "cell_type": "markdown",
      "source": [
        "**Εδώ, οι ετικέτες κωδικοποιούνται σε ακέραιους χρησιμοποιώντας το `LabelEncoder`, και στη συνέχεια μετατρέπονται σε κωδικοποίηση one-hot χρησιμοποιώντας το `to_categorical`. Αυτό είναι απαραίτητο για εργασίες κατηγοριοποίησης όπου κάθε κλάση αναπαρίσταται από ένα δυαδικό διάνυσμα.**"
      ],
      "metadata": {
        "id": "iIobFytz1kAB"
      }
    },
    {
      "cell_type": "code",
      "source": [
        "X_train, X_test, y_train, y_test = train_test_split(X, y_encoded, test_size=0.2, random_state=42)"
      ],
      "metadata": {
        "execution": {
          "iopub.status.busy": "2024-10-15T16:06:03.187156Z",
          "iopub.execute_input": "2024-10-15T16:06:03.190613Z",
          "iopub.status.idle": "2024-10-15T16:06:03.203716Z",
          "shell.execute_reply.started": "2024-10-15T16:06:03.190539Z",
          "shell.execute_reply": "2024-10-15T16:06:03.202683Z"
        },
        "trusted": true,
        "id": "V8RX2-3L1kAB"
      },
      "outputs": [],
      "execution_count": 10
    },
    {
      "cell_type": "markdown",
      "source": [
        "**Το σύνολο δεδομένων χωρίζεται σε σύνολα εκπαίδευσης και δοκιμών, με το 80% των δεδομένων να χρησιμοποιείται για εκπαίδευση και το 20% για δοκιμές. Αυτό είναι ένα κρίσιμο βήμα για την αξιολόγηση της απόδοσης του μοντέλου.**\n",
        "\n"
      ],
      "metadata": {
        "id": "HyRtHGhL1kAB"
      }
    },
    {
      "cell_type": "code",
      "source": [
        "print(\"Original X_train shape:\", X_train.shape)"
      ],
      "metadata": {
        "execution": {
          "iopub.status.busy": "2024-10-15T16:06:03.209757Z",
          "iopub.execute_input": "2024-10-15T16:06:03.213045Z",
          "iopub.status.idle": "2024-10-15T16:06:03.225268Z",
          "shell.execute_reply.started": "2024-10-15T16:06:03.212983Z",
          "shell.execute_reply": "2024-10-15T16:06:03.224002Z"
        },
        "trusted": true,
        "id": "3uPu46wA1kAB",
        "outputId": "48a8ec70-d305-4a28-b857-5c647198c845",
        "colab": {
          "base_uri": "https://localhost:8080/",
          "height": 0
        }
      },
      "outputs": [
        {
          "output_type": "stream",
          "name": "stdout",
          "text": [
            "Original X_train shape: (6985, 40)\n"
          ]
        }
      ],
      "execution_count": 11
    },
    {
      "cell_type": "markdown",
      "source": [
        "## Αναδιαμόρφωση Δεδομένων Εισόδου για CNN"
      ],
      "metadata": {
        "id": "sJVm5Yt61kAB"
      }
    },
    {
      "cell_type": "code",
      "source": [
        "num_features = X.shape[1]\n",
        "X_train = X_train.reshape(X_train.shape[0], 40, 1, 1)\n",
        "X_test = X_test.reshape(X_test.shape[0], 40, 1, 1)"
      ],
      "metadata": {
        "execution": {
          "iopub.status.busy": "2024-10-15T16:06:03.231082Z",
          "iopub.execute_input": "2024-10-15T16:06:03.234282Z",
          "iopub.status.idle": "2024-10-15T16:06:03.24306Z",
          "shell.execute_reply.started": "2024-10-15T16:06:03.23422Z",
          "shell.execute_reply": "2024-10-15T16:06:03.241736Z"
        },
        "trusted": true,
        "id": "m0IV8iPa1kAC"
      },
      "outputs": [],
      "execution_count": 12
    },
    {
      "cell_type": "markdown",
      "source": [
        "**Τα δεδομένα εισόδου αναδιαμορφώνονται για να ταιριάζουν στις απαιτήσεις εισόδου του CNN. Κάθε δείγμα θα έχει διαστάσεις που αντιστοιχούν στον αριθμό των χαρακτηριστικών MFCC, το ύψος και τα κανάλια.**"
      ],
      "metadata": {
        "id": "O2Vfvbhp1kAC"
      }
    },
    {
      "cell_type": "code",
      "source": [
        "print(\"Reshaped X_train shape:\", X_train.shape)\n",
        "print(\"Reshaped X_test shape:\", X_test.shape)"
      ],
      "metadata": {
        "execution": {
          "iopub.status.busy": "2024-10-15T16:06:03.245251Z",
          "iopub.execute_input": "2024-10-15T16:06:03.245844Z",
          "iopub.status.idle": "2024-10-15T16:06:03.253624Z",
          "shell.execute_reply.started": "2024-10-15T16:06:03.245787Z",
          "shell.execute_reply": "2024-10-15T16:06:03.25224Z"
        },
        "trusted": true,
        "id": "5rOFGUJg1kAC",
        "outputId": "ef9cc990-c5d9-4334-880d-16a77f5afa15",
        "colab": {
          "base_uri": "https://localhost:8080/",
          "height": 0
        }
      },
      "outputs": [
        {
          "output_type": "stream",
          "name": "stdout",
          "text": [
            "Reshaped X_train shape: (6985, 40, 1, 1)\n",
            "Reshaped X_test shape: (1747, 40, 1, 1)\n"
          ]
        }
      ],
      "execution_count": 13
    },
    {
      "cell_type": "markdown",
      "source": [
        "## Κατασκευή του Μοντέλου CNN"
      ],
      "metadata": {
        "id": "4sNP1asM1kAC"
      }
    },
    {
      "cell_type": "code",
      "source": [
        "model = Sequential()\n",
        "\n",
        "model.add(Conv2D(32, kernel_size=(2, 1), activation='relu', input_shape=(40, 1, 1)))\n",
        "model.add(MaxPooling2D(pool_size=(2, 1)))\n",
        "model.add(Dropout(0.25))\n",
        "\n",
        "model.add(Conv2D(64, kernel_size=(2, 1), activation='relu'))\n",
        "model.add(MaxPooling2D(pool_size=(2, 1)))\n",
        "model.add(Dropout(0.25))\n",
        "\n",
        "model.add(Flatten())\n",
        "model.add(Dense(128, activation='relu'))\n",
        "model.add(Dropout(0.5))\n",
        "\n",
        "model.add(Dense(y_encoded.shape[1], activation='softmax'))\n",
        "\n",
        "model.summary()"
      ],
      "metadata": {
        "execution": {
          "iopub.status.busy": "2024-10-15T16:06:03.255316Z",
          "iopub.execute_input": "2024-10-15T16:06:03.255906Z",
          "iopub.status.idle": "2024-10-15T16:06:04.219785Z",
          "shell.execute_reply.started": "2024-10-15T16:06:03.25585Z",
          "shell.execute_reply": "2024-10-15T16:06:04.218873Z"
        },
        "trusted": true,
        "id": "4uby25j_1kAC",
        "outputId": "acba8d81-1d5c-45f4-9929-2f4a25edda6e",
        "colab": {
          "base_uri": "https://localhost:8080/",
          "height": 449
        }
      },
      "outputs": [
        {
          "output_type": "display_data",
          "data": {
            "text/plain": [
              "\u001b[1mModel: \"sequential\"\u001b[0m\n"
            ],
            "text/html": [
              "<pre style=\"white-space:pre;overflow-x:auto;line-height:normal;font-family:Menlo,'DejaVu Sans Mono',consolas,'Courier New',monospace\"><span style=\"font-weight: bold\">Model: \"sequential\"</span>\n",
              "</pre>\n"
            ]
          },
          "metadata": {}
        },
        {
          "output_type": "display_data",
          "data": {
            "text/plain": [
              "┏━━━━━━━━━━━━━━━━━━━━━━━━━━━━━━━━━━━━━━┳━━━━━━━━━━━━━━━━━━━━━━━━━━━━━┳━━━━━━━━━━━━━━━━━┓\n",
              "┃\u001b[1m \u001b[0m\u001b[1mLayer (type)                        \u001b[0m\u001b[1m \u001b[0m┃\u001b[1m \u001b[0m\u001b[1mOutput Shape               \u001b[0m\u001b[1m \u001b[0m┃\u001b[1m \u001b[0m\u001b[1m        Param #\u001b[0m\u001b[1m \u001b[0m┃\n",
              "┡━━━━━━━━━━━━━━━━━━━━━━━━━━━━━━━━━━━━━━╇━━━━━━━━━━━━━━━━━━━━━━━━━━━━━╇━━━━━━━━━━━━━━━━━┩\n",
              "│ conv2d (\u001b[38;5;33mConv2D\u001b[0m)                      │ (\u001b[38;5;45mNone\u001b[0m, \u001b[38;5;34m39\u001b[0m, \u001b[38;5;34m1\u001b[0m, \u001b[38;5;34m32\u001b[0m)           │              \u001b[38;5;34m96\u001b[0m │\n",
              "├──────────────────────────────────────┼─────────────────────────────┼─────────────────┤\n",
              "│ max_pooling2d (\u001b[38;5;33mMaxPooling2D\u001b[0m)         │ (\u001b[38;5;45mNone\u001b[0m, \u001b[38;5;34m19\u001b[0m, \u001b[38;5;34m1\u001b[0m, \u001b[38;5;34m32\u001b[0m)           │               \u001b[38;5;34m0\u001b[0m │\n",
              "├──────────────────────────────────────┼─────────────────────────────┼─────────────────┤\n",
              "│ dropout (\u001b[38;5;33mDropout\u001b[0m)                    │ (\u001b[38;5;45mNone\u001b[0m, \u001b[38;5;34m19\u001b[0m, \u001b[38;5;34m1\u001b[0m, \u001b[38;5;34m32\u001b[0m)           │               \u001b[38;5;34m0\u001b[0m │\n",
              "├──────────────────────────────────────┼─────────────────────────────┼─────────────────┤\n",
              "│ conv2d_1 (\u001b[38;5;33mConv2D\u001b[0m)                    │ (\u001b[38;5;45mNone\u001b[0m, \u001b[38;5;34m18\u001b[0m, \u001b[38;5;34m1\u001b[0m, \u001b[38;5;34m64\u001b[0m)           │           \u001b[38;5;34m4,160\u001b[0m │\n",
              "├──────────────────────────────────────┼─────────────────────────────┼─────────────────┤\n",
              "│ max_pooling2d_1 (\u001b[38;5;33mMaxPooling2D\u001b[0m)       │ (\u001b[38;5;45mNone\u001b[0m, \u001b[38;5;34m9\u001b[0m, \u001b[38;5;34m1\u001b[0m, \u001b[38;5;34m64\u001b[0m)            │               \u001b[38;5;34m0\u001b[0m │\n",
              "├──────────────────────────────────────┼─────────────────────────────┼─────────────────┤\n",
              "│ dropout_1 (\u001b[38;5;33mDropout\u001b[0m)                  │ (\u001b[38;5;45mNone\u001b[0m, \u001b[38;5;34m9\u001b[0m, \u001b[38;5;34m1\u001b[0m, \u001b[38;5;34m64\u001b[0m)            │               \u001b[38;5;34m0\u001b[0m │\n",
              "├──────────────────────────────────────┼─────────────────────────────┼─────────────────┤\n",
              "│ flatten (\u001b[38;5;33mFlatten\u001b[0m)                    │ (\u001b[38;5;45mNone\u001b[0m, \u001b[38;5;34m576\u001b[0m)                 │               \u001b[38;5;34m0\u001b[0m │\n",
              "├──────────────────────────────────────┼─────────────────────────────┼─────────────────┤\n",
              "│ dense (\u001b[38;5;33mDense\u001b[0m)                        │ (\u001b[38;5;45mNone\u001b[0m, \u001b[38;5;34m128\u001b[0m)                 │          \u001b[38;5;34m73,856\u001b[0m │\n",
              "├──────────────────────────────────────┼─────────────────────────────┼─────────────────┤\n",
              "│ dropout_2 (\u001b[38;5;33mDropout\u001b[0m)                  │ (\u001b[38;5;45mNone\u001b[0m, \u001b[38;5;34m128\u001b[0m)                 │               \u001b[38;5;34m0\u001b[0m │\n",
              "├──────────────────────────────────────┼─────────────────────────────┼─────────────────┤\n",
              "│ dense_1 (\u001b[38;5;33mDense\u001b[0m)                      │ (\u001b[38;5;45mNone\u001b[0m, \u001b[38;5;34m10\u001b[0m)                  │           \u001b[38;5;34m1,290\u001b[0m │\n",
              "└──────────────────────────────────────┴─────────────────────────────┴─────────────────┘\n"
            ],
            "text/html": [
              "<pre style=\"white-space:pre;overflow-x:auto;line-height:normal;font-family:Menlo,'DejaVu Sans Mono',consolas,'Courier New',monospace\">┏━━━━━━━━━━━━━━━━━━━━━━━━━━━━━━━━━━━━━━┳━━━━━━━━━━━━━━━━━━━━━━━━━━━━━┳━━━━━━━━━━━━━━━━━┓\n",
              "┃<span style=\"font-weight: bold\"> Layer (type)                         </span>┃<span style=\"font-weight: bold\"> Output Shape                </span>┃<span style=\"font-weight: bold\">         Param # </span>┃\n",
              "┡━━━━━━━━━━━━━━━━━━━━━━━━━━━━━━━━━━━━━━╇━━━━━━━━━━━━━━━━━━━━━━━━━━━━━╇━━━━━━━━━━━━━━━━━┩\n",
              "│ conv2d (<span style=\"color: #0087ff; text-decoration-color: #0087ff\">Conv2D</span>)                      │ (<span style=\"color: #00d7ff; text-decoration-color: #00d7ff\">None</span>, <span style=\"color: #00af00; text-decoration-color: #00af00\">39</span>, <span style=\"color: #00af00; text-decoration-color: #00af00\">1</span>, <span style=\"color: #00af00; text-decoration-color: #00af00\">32</span>)           │              <span style=\"color: #00af00; text-decoration-color: #00af00\">96</span> │\n",
              "├──────────────────────────────────────┼─────────────────────────────┼─────────────────┤\n",
              "│ max_pooling2d (<span style=\"color: #0087ff; text-decoration-color: #0087ff\">MaxPooling2D</span>)         │ (<span style=\"color: #00d7ff; text-decoration-color: #00d7ff\">None</span>, <span style=\"color: #00af00; text-decoration-color: #00af00\">19</span>, <span style=\"color: #00af00; text-decoration-color: #00af00\">1</span>, <span style=\"color: #00af00; text-decoration-color: #00af00\">32</span>)           │               <span style=\"color: #00af00; text-decoration-color: #00af00\">0</span> │\n",
              "├──────────────────────────────────────┼─────────────────────────────┼─────────────────┤\n",
              "│ dropout (<span style=\"color: #0087ff; text-decoration-color: #0087ff\">Dropout</span>)                    │ (<span style=\"color: #00d7ff; text-decoration-color: #00d7ff\">None</span>, <span style=\"color: #00af00; text-decoration-color: #00af00\">19</span>, <span style=\"color: #00af00; text-decoration-color: #00af00\">1</span>, <span style=\"color: #00af00; text-decoration-color: #00af00\">32</span>)           │               <span style=\"color: #00af00; text-decoration-color: #00af00\">0</span> │\n",
              "├──────────────────────────────────────┼─────────────────────────────┼─────────────────┤\n",
              "│ conv2d_1 (<span style=\"color: #0087ff; text-decoration-color: #0087ff\">Conv2D</span>)                    │ (<span style=\"color: #00d7ff; text-decoration-color: #00d7ff\">None</span>, <span style=\"color: #00af00; text-decoration-color: #00af00\">18</span>, <span style=\"color: #00af00; text-decoration-color: #00af00\">1</span>, <span style=\"color: #00af00; text-decoration-color: #00af00\">64</span>)           │           <span style=\"color: #00af00; text-decoration-color: #00af00\">4,160</span> │\n",
              "├──────────────────────────────────────┼─────────────────────────────┼─────────────────┤\n",
              "│ max_pooling2d_1 (<span style=\"color: #0087ff; text-decoration-color: #0087ff\">MaxPooling2D</span>)       │ (<span style=\"color: #00d7ff; text-decoration-color: #00d7ff\">None</span>, <span style=\"color: #00af00; text-decoration-color: #00af00\">9</span>, <span style=\"color: #00af00; text-decoration-color: #00af00\">1</span>, <span style=\"color: #00af00; text-decoration-color: #00af00\">64</span>)            │               <span style=\"color: #00af00; text-decoration-color: #00af00\">0</span> │\n",
              "├──────────────────────────────────────┼─────────────────────────────┼─────────────────┤\n",
              "│ dropout_1 (<span style=\"color: #0087ff; text-decoration-color: #0087ff\">Dropout</span>)                  │ (<span style=\"color: #00d7ff; text-decoration-color: #00d7ff\">None</span>, <span style=\"color: #00af00; text-decoration-color: #00af00\">9</span>, <span style=\"color: #00af00; text-decoration-color: #00af00\">1</span>, <span style=\"color: #00af00; text-decoration-color: #00af00\">64</span>)            │               <span style=\"color: #00af00; text-decoration-color: #00af00\">0</span> │\n",
              "├──────────────────────────────────────┼─────────────────────────────┼─────────────────┤\n",
              "│ flatten (<span style=\"color: #0087ff; text-decoration-color: #0087ff\">Flatten</span>)                    │ (<span style=\"color: #00d7ff; text-decoration-color: #00d7ff\">None</span>, <span style=\"color: #00af00; text-decoration-color: #00af00\">576</span>)                 │               <span style=\"color: #00af00; text-decoration-color: #00af00\">0</span> │\n",
              "├──────────────────────────────────────┼─────────────────────────────┼─────────────────┤\n",
              "│ dense (<span style=\"color: #0087ff; text-decoration-color: #0087ff\">Dense</span>)                        │ (<span style=\"color: #00d7ff; text-decoration-color: #00d7ff\">None</span>, <span style=\"color: #00af00; text-decoration-color: #00af00\">128</span>)                 │          <span style=\"color: #00af00; text-decoration-color: #00af00\">73,856</span> │\n",
              "├──────────────────────────────────────┼─────────────────────────────┼─────────────────┤\n",
              "│ dropout_2 (<span style=\"color: #0087ff; text-decoration-color: #0087ff\">Dropout</span>)                  │ (<span style=\"color: #00d7ff; text-decoration-color: #00d7ff\">None</span>, <span style=\"color: #00af00; text-decoration-color: #00af00\">128</span>)                 │               <span style=\"color: #00af00; text-decoration-color: #00af00\">0</span> │\n",
              "├──────────────────────────────────────┼─────────────────────────────┼─────────────────┤\n",
              "│ dense_1 (<span style=\"color: #0087ff; text-decoration-color: #0087ff\">Dense</span>)                      │ (<span style=\"color: #00d7ff; text-decoration-color: #00d7ff\">None</span>, <span style=\"color: #00af00; text-decoration-color: #00af00\">10</span>)                  │           <span style=\"color: #00af00; text-decoration-color: #00af00\">1,290</span> │\n",
              "└──────────────────────────────────────┴─────────────────────────────┴─────────────────┘\n",
              "</pre>\n"
            ]
          },
          "metadata": {}
        },
        {
          "output_type": "display_data",
          "data": {
            "text/plain": [
              "\u001b[1m Total params: \u001b[0m\u001b[38;5;34m79,402\u001b[0m (310.16 KB)\n"
            ],
            "text/html": [
              "<pre style=\"white-space:pre;overflow-x:auto;line-height:normal;font-family:Menlo,'DejaVu Sans Mono',consolas,'Courier New',monospace\"><span style=\"font-weight: bold\"> Total params: </span><span style=\"color: #00af00; text-decoration-color: #00af00\">79,402</span> (310.16 KB)\n",
              "</pre>\n"
            ]
          },
          "metadata": {}
        },
        {
          "output_type": "display_data",
          "data": {
            "text/plain": [
              "\u001b[1m Trainable params: \u001b[0m\u001b[38;5;34m79,402\u001b[0m (310.16 KB)\n"
            ],
            "text/html": [
              "<pre style=\"white-space:pre;overflow-x:auto;line-height:normal;font-family:Menlo,'DejaVu Sans Mono',consolas,'Courier New',monospace\"><span style=\"font-weight: bold\"> Trainable params: </span><span style=\"color: #00af00; text-decoration-color: #00af00\">79,402</span> (310.16 KB)\n",
              "</pre>\n"
            ]
          },
          "metadata": {}
        },
        {
          "output_type": "display_data",
          "data": {
            "text/plain": [
              "\u001b[1m Non-trainable params: \u001b[0m\u001b[38;5;34m0\u001b[0m (0.00 B)\n"
            ],
            "text/html": [
              "<pre style=\"white-space:pre;overflow-x:auto;line-height:normal;font-family:Menlo,'DejaVu Sans Mono',consolas,'Courier New',monospace\"><span style=\"font-weight: bold\"> Non-trainable params: </span><span style=\"color: #00af00; text-decoration-color: #00af00\">0</span> (0.00 B)\n",
              "</pre>\n"
            ]
          },
          "metadata": {}
        }
      ],
      "execution_count": 14
    },
    {
      "cell_type": "markdown",
      "source": [
        "**Αυτή η ενότητα κατασκευάζει ένα Συνελικτικό Νευρωνικό Δίκτυο (CNN) χρησιμοποιώντας το Keras Sequential API. Το μοντέλο αποτελείται από:**\n",
        "+ Επίπεδα Conv2D: για εξαγωγή χαρακτηριστικών από τα δεδομένα εισόδου.\n",
        "+ Επίπεδα MaxPooling2D: για μείωση του dimensionality και έλεγχο του overfitting.\n",
        "+ Επίπεδα Dropout: για την πρόληψη του overfitting με τυχαία απόρριψη μονάδων κατά την εκπαίδευση.\n",
        "+ Επίπεδο Flatten: για τη μετατροπή των 2D χαρτών χαρακτηριστικών σε ένα 1D διάνυσμα χαρακτηριστικών.\n",
        "+ Επίπεδα Dense: για ταξινόμηση με ενεργοποίηση softmax στο επίπεδο εξόδου για την πρόβλεψη των πιθανοτήτων των κλάσεων."
      ],
      "metadata": {
        "id": "2G2jB67N1kAC"
      }
    },
    {
      "cell_type": "markdown",
      "source": [
        "## Compile το μοντέλο"
      ],
      "metadata": {
        "id": "bgMJDsnI1kAC"
      }
    },
    {
      "cell_type": "code",
      "source": [
        "model.compile(loss='categorical_crossentropy', optimizer='adam', metrics=['accuracy'])"
      ],
      "metadata": {
        "execution": {
          "iopub.status.busy": "2024-10-15T16:06:04.223554Z",
          "iopub.execute_input": "2024-10-15T16:06:04.223839Z",
          "iopub.status.idle": "2024-10-15T16:06:04.236318Z",
          "shell.execute_reply.started": "2024-10-15T16:06:04.223809Z",
          "shell.execute_reply": "2024-10-15T16:06:04.235553Z"
        },
        "trusted": true,
        "id": "pWIQXyhj1kAC"
      },
      "outputs": [],
      "execution_count": 15
    },
    {
      "cell_type": "markdown",
      "source": [
        "**Το μοντέλο κάνει compile με τη συνάρτηση απώλειας categorical cross-entropy, η οποία είναι κατάλληλη για προβλήματα ταξινόμησης πολλαπλών κλάσεων. Ο βελτιστοποιητής Adam χρησιμοποιείται για αποτελεσματική εκπαίδευση, και η ακρίβεια καθορίζεται ως μετρική για παρακολούθηση.**"
      ],
      "metadata": {
        "id": "hO2v7N2i1kAD"
      }
    },
    {
      "cell_type": "markdown",
      "source": [
        "## Εκπαίδευση του μοντέλου"
      ],
      "metadata": {
        "id": "zU24tgt31kAD"
      }
    },
    {
      "cell_type": "code",
      "source": [
        "model.fit(X_train, y_train, epochs=30, batch_size=32, validation_data=(X_test, y_test))"
      ],
      "metadata": {
        "execution": {
          "iopub.status.busy": "2024-10-15T16:06:04.237307Z",
          "iopub.execute_input": "2024-10-15T16:06:04.237599Z",
          "iopub.status.idle": "2024-10-15T16:06:32.304337Z",
          "shell.execute_reply.started": "2024-10-15T16:06:04.237568Z",
          "shell.execute_reply": "2024-10-15T16:06:32.303357Z"
        },
        "trusted": true,
        "id": "rUcDjy9N1kAD",
        "outputId": "558c151d-a37a-40fb-a320-1c90b70ecc92",
        "colab": {
          "base_uri": "https://localhost:8080/",
          "height": 0
        }
      },
      "outputs": [
        {
          "output_type": "stream",
          "name": "stdout",
          "text": [
            "Epoch 1/30\n",
            "\u001b[1m219/219\u001b[0m \u001b[32m━━━━━━━━━━━━━━━━━━━━\u001b[0m\u001b[37m\u001b[0m \u001b[1m6s\u001b[0m 10ms/step - accuracy: 0.1582 - loss: 5.5886 - val_accuracy: 0.3102 - val_loss: 2.0073\n",
            "Epoch 2/30\n",
            "\u001b[1m219/219\u001b[0m \u001b[32m━━━━━━━━━━━━━━━━━━━━\u001b[0m\u001b[37m\u001b[0m \u001b[1m2s\u001b[0m 9ms/step - accuracy: 0.2570 - loss: 2.0728 - val_accuracy: 0.4533 - val_loss: 1.7351\n",
            "Epoch 3/30\n",
            "\u001b[1m219/219\u001b[0m \u001b[32m━━━━━━━━━━━━━━━━━━━━\u001b[0m\u001b[37m\u001b[0m \u001b[1m2s\u001b[0m 9ms/step - accuracy: 0.3111 - loss: 1.9265 - val_accuracy: 0.4820 - val_loss: 1.5470\n",
            "Epoch 4/30\n",
            "\u001b[1m219/219\u001b[0m \u001b[32m━━━━━━━━━━━━━━━━━━━━\u001b[0m\u001b[37m\u001b[0m \u001b[1m2s\u001b[0m 8ms/step - accuracy: 0.3606 - loss: 1.7877 - val_accuracy: 0.5507 - val_loss: 1.4463\n",
            "Epoch 5/30\n",
            "\u001b[1m219/219\u001b[0m \u001b[32m━━━━━━━━━━━━━━━━━━━━\u001b[0m\u001b[37m\u001b[0m \u001b[1m2s\u001b[0m 11ms/step - accuracy: 0.3982 - loss: 1.7073 - val_accuracy: 0.5776 - val_loss: 1.3515\n",
            "Epoch 6/30\n",
            "\u001b[1m219/219\u001b[0m \u001b[32m━━━━━━━━━━━━━━━━━━━━\u001b[0m\u001b[37m\u001b[0m \u001b[1m3s\u001b[0m 15ms/step - accuracy: 0.4212 - loss: 1.6302 - val_accuracy: 0.5821 - val_loss: 1.3089\n",
            "Epoch 7/30\n",
            "\u001b[1m219/219\u001b[0m \u001b[32m━━━━━━━━━━━━━━━━━━━━\u001b[0m\u001b[37m\u001b[0m \u001b[1m2s\u001b[0m 8ms/step - accuracy: 0.4498 - loss: 1.5779 - val_accuracy: 0.6062 - val_loss: 1.2031\n",
            "Epoch 8/30\n",
            "\u001b[1m219/219\u001b[0m \u001b[32m━━━━━━━━━━━━━━━━━━━━\u001b[0m\u001b[37m\u001b[0m \u001b[1m3s\u001b[0m 8ms/step - accuracy: 0.4748 - loss: 1.5140 - val_accuracy: 0.6285 - val_loss: 1.1370\n",
            "Epoch 9/30\n",
            "\u001b[1m219/219\u001b[0m \u001b[32m━━━━━━━━━━━━━━━━━━━━\u001b[0m\u001b[37m\u001b[0m \u001b[1m2s\u001b[0m 8ms/step - accuracy: 0.4901 - loss: 1.4550 - val_accuracy: 0.6422 - val_loss: 1.1207\n",
            "Epoch 10/30\n",
            "\u001b[1m219/219\u001b[0m \u001b[32m━━━━━━━━━━━━━━━━━━━━\u001b[0m\u001b[37m\u001b[0m \u001b[1m3s\u001b[0m 9ms/step - accuracy: 0.5079 - loss: 1.4324 - val_accuracy: 0.6474 - val_loss: 1.0731\n",
            "Epoch 11/30\n",
            "\u001b[1m219/219\u001b[0m \u001b[32m━━━━━━━━━━━━━━━━━━━━\u001b[0m\u001b[37m\u001b[0m \u001b[1m3s\u001b[0m 13ms/step - accuracy: 0.5415 - loss: 1.3428 - val_accuracy: 0.6823 - val_loss: 1.0487\n",
            "Epoch 12/30\n",
            "\u001b[1m219/219\u001b[0m \u001b[32m━━━━━━━━━━━━━━━━━━━━\u001b[0m\u001b[37m\u001b[0m \u001b[1m4s\u001b[0m 10ms/step - accuracy: 0.5314 - loss: 1.3374 - val_accuracy: 0.7018 - val_loss: 0.9841\n",
            "Epoch 13/30\n",
            "\u001b[1m219/219\u001b[0m \u001b[32m━━━━━━━━━━━━━━━━━━━━\u001b[0m\u001b[37m\u001b[0m \u001b[1m3s\u001b[0m 10ms/step - accuracy: 0.5664 - loss: 1.2601 - val_accuracy: 0.7041 - val_loss: 0.9558\n",
            "Epoch 14/30\n",
            "\u001b[1m219/219\u001b[0m \u001b[32m━━━━━━━━━━━━━━━━━━━━\u001b[0m\u001b[37m\u001b[0m \u001b[1m3s\u001b[0m 10ms/step - accuracy: 0.5775 - loss: 1.2521 - val_accuracy: 0.7218 - val_loss: 0.9363\n",
            "Epoch 15/30\n",
            "\u001b[1m219/219\u001b[0m \u001b[32m━━━━━━━━━━━━━━━━━━━━\u001b[0m\u001b[37m\u001b[0m \u001b[1m3s\u001b[0m 12ms/step - accuracy: 0.5892 - loss: 1.2068 - val_accuracy: 0.7293 - val_loss: 0.8936\n",
            "Epoch 16/30\n",
            "\u001b[1m219/219\u001b[0m \u001b[32m━━━━━━━━━━━━━━━━━━━━\u001b[0m\u001b[37m\u001b[0m \u001b[1m4s\u001b[0m 8ms/step - accuracy: 0.5930 - loss: 1.1572 - val_accuracy: 0.7418 - val_loss: 0.8758\n",
            "Epoch 17/30\n",
            "\u001b[1m219/219\u001b[0m \u001b[32m━━━━━━━━━━━━━━━━━━━━\u001b[0m\u001b[37m\u001b[0m \u001b[1m3s\u001b[0m 9ms/step - accuracy: 0.5969 - loss: 1.2130 - val_accuracy: 0.7516 - val_loss: 0.8588\n",
            "Epoch 18/30\n",
            "\u001b[1m219/219\u001b[0m \u001b[32m━━━━━━━━━━━━━━━━━━━━\u001b[0m\u001b[37m\u001b[0m \u001b[1m2s\u001b[0m 8ms/step - accuracy: 0.6159 - loss: 1.1191 - val_accuracy: 0.7773 - val_loss: 0.7950\n",
            "Epoch 19/30\n",
            "\u001b[1m219/219\u001b[0m \u001b[32m━━━━━━━━━━━━━━━━━━━━\u001b[0m\u001b[37m\u001b[0m \u001b[1m3s\u001b[0m 10ms/step - accuracy: 0.6157 - loss: 1.1506 - val_accuracy: 0.7687 - val_loss: 0.8054\n",
            "Epoch 20/30\n",
            "\u001b[1m219/219\u001b[0m \u001b[32m━━━━━━━━━━━━━━━━━━━━\u001b[0m\u001b[37m\u001b[0m \u001b[1m3s\u001b[0m 13ms/step - accuracy: 0.6310 - loss: 1.0686 - val_accuracy: 0.7728 - val_loss: 0.7716\n",
            "Epoch 21/30\n",
            "\u001b[1m219/219\u001b[0m \u001b[32m━━━━━━━━━━━━━━━━━━━━\u001b[0m\u001b[37m\u001b[0m \u001b[1m2s\u001b[0m 8ms/step - accuracy: 0.6217 - loss: 1.0915 - val_accuracy: 0.7790 - val_loss: 0.7516\n",
            "Epoch 22/30\n",
            "\u001b[1m219/219\u001b[0m \u001b[32m━━━━━━━━━━━━━━━━━━━━\u001b[0m\u001b[37m\u001b[0m \u001b[1m2s\u001b[0m 8ms/step - accuracy: 0.6278 - loss: 1.0951 - val_accuracy: 0.7871 - val_loss: 0.7517\n",
            "Epoch 23/30\n",
            "\u001b[1m219/219\u001b[0m \u001b[32m━━━━━━━━━━━━━━━━━━━━\u001b[0m\u001b[37m\u001b[0m \u001b[1m3s\u001b[0m 9ms/step - accuracy: 0.6407 - loss: 1.0342 - val_accuracy: 0.7842 - val_loss: 0.7020\n",
            "Epoch 24/30\n",
            "\u001b[1m219/219\u001b[0m \u001b[32m━━━━━━━━━━━━━━━━━━━━\u001b[0m\u001b[37m\u001b[0m \u001b[1m2s\u001b[0m 9ms/step - accuracy: 0.6464 - loss: 1.0015 - val_accuracy: 0.7956 - val_loss: 0.7073\n",
            "Epoch 25/30\n",
            "\u001b[1m219/219\u001b[0m \u001b[32m━━━━━━━━━━━━━━━━━━━━\u001b[0m\u001b[37m\u001b[0m \u001b[1m3s\u001b[0m 12ms/step - accuracy: 0.6618 - loss: 0.9959 - val_accuracy: 0.7899 - val_loss: 0.6781\n",
            "Epoch 26/30\n",
            "\u001b[1m219/219\u001b[0m \u001b[32m━━━━━━━━━━━━━━━━━━━━\u001b[0m\u001b[37m\u001b[0m \u001b[1m4s\u001b[0m 8ms/step - accuracy: 0.6680 - loss: 0.9947 - val_accuracy: 0.8019 - val_loss: 0.6856\n",
            "Epoch 27/30\n",
            "\u001b[1m219/219\u001b[0m \u001b[32m━━━━━━━━━━━━━━━━━━━━\u001b[0m\u001b[37m\u001b[0m \u001b[1m3s\u001b[0m 9ms/step - accuracy: 0.6810 - loss: 0.9288 - val_accuracy: 0.8082 - val_loss: 0.6288\n",
            "Epoch 28/30\n",
            "\u001b[1m219/219\u001b[0m \u001b[32m━━━━━━━━━━━━━━━━━━━━\u001b[0m\u001b[37m\u001b[0m \u001b[1m3s\u001b[0m 9ms/step - accuracy: 0.6685 - loss: 0.9649 - val_accuracy: 0.8077 - val_loss: 0.6429\n",
            "Epoch 29/30\n",
            "\u001b[1m219/219\u001b[0m \u001b[32m━━━━━━━━━━━━━━━━━━━━\u001b[0m\u001b[37m\u001b[0m \u001b[1m2s\u001b[0m 10ms/step - accuracy: 0.6786 - loss: 0.9323 - val_accuracy: 0.8174 - val_loss: 0.6231\n",
            "Epoch 30/30\n",
            "\u001b[1m219/219\u001b[0m \u001b[32m━━━━━━━━━━━━━━━━━━━━\u001b[0m\u001b[37m\u001b[0m \u001b[1m3s\u001b[0m 12ms/step - accuracy: 0.6908 - loss: 0.8990 - val_accuracy: 0.8151 - val_loss: 0.5951\n"
          ]
        },
        {
          "output_type": "execute_result",
          "data": {
            "text/plain": [
              "<keras.src.callbacks.history.History at 0x78394871d450>"
            ]
          },
          "metadata": {},
          "execution_count": 16
        }
      ],
      "execution_count": 16
    },
    {
      "cell_type": "markdown",
      "source": [
        "**Το μοντέλο εκπαιδεύεται στα δεδομένα εκπαίδευσης για 30 εποχές με μέγεθος παρτίδας 32. Τα δεδομένα επικύρωσης παρέχονται για την παρακολούθηση της απόδοσης του μοντέλου σε άγνωστα δεδομένα μετά από κάθε εποχή.**"
      ],
      "metadata": {
        "id": "U_6hFcTG1kAD"
      }
    },
    {
      "cell_type": "markdown",
      "source": [
        "## Απόδοση μοντέλου"
      ],
      "metadata": {
        "id": "KRsiePHY1kAD"
      }
    },
    {
      "cell_type": "code",
      "source": [
        "score = model.evaluate(X_test, y_test, verbose=0)\n",
        "print(f'Test accuracy: {score[1]*100:.2f}%')"
      ],
      "metadata": {
        "execution": {
          "iopub.status.busy": "2024-10-15T16:06:32.305692Z",
          "iopub.execute_input": "2024-10-15T16:06:32.306199Z",
          "iopub.status.idle": "2024-10-15T16:06:32.437997Z",
          "shell.execute_reply.started": "2024-10-15T16:06:32.306151Z",
          "shell.execute_reply": "2024-10-15T16:06:32.43709Z"
        },
        "trusted": true,
        "id": "xXclSbFH1kAD",
        "outputId": "6713d11a-acbd-4a4d-f815-91873c119b30",
        "colab": {
          "base_uri": "https://localhost:8080/",
          "height": 0
        }
      },
      "outputs": [
        {
          "output_type": "stream",
          "name": "stdout",
          "text": [
            "Test accuracy: 81.51%\n"
          ]
        }
      ],
      "execution_count": 17
    },
    {
      "cell_type": "code",
      "source": [
        "y_pred = model.predict(X_test)\n",
        "y_test_labels = le.inverse_transform(np.argmax(y_test, axis=1))\n",
        "y_pred_labels = le.inverse_transform(np.argmax(y_pred, axis=1))\n",
        "print(classification_report(y_test_labels, y_pred_labels))"
      ],
      "metadata": {
        "execution": {
          "iopub.status.busy": "2024-10-15T16:06:32.439161Z",
          "iopub.execute_input": "2024-10-15T16:06:32.439543Z",
          "iopub.status.idle": "2024-10-15T16:06:32.96469Z",
          "shell.execute_reply.started": "2024-10-15T16:06:32.439508Z",
          "shell.execute_reply": "2024-10-15T16:06:32.963746Z"
        },
        "trusted": true,
        "id": "ZYwfRTu51kAD",
        "outputId": "de29afa7-c70c-4da9-a860-14f360dab87c",
        "colab": {
          "base_uri": "https://localhost:8080/",
          "height": 0
        }
      },
      "outputs": [
        {
          "output_type": "stream",
          "name": "stdout",
          "text": [
            "\u001b[1m55/55\u001b[0m \u001b[32m━━━━━━━━━━━━━━━━━━━━\u001b[0m\u001b[37m\u001b[0m \u001b[1m1s\u001b[0m 15ms/step\n",
            "                  precision    recall  f1-score   support\n",
            "\n",
            " air_conditioner       0.81      0.93      0.86       203\n",
            "        car_horn       0.90      0.83      0.86        86\n",
            "children_playing       0.61      0.77      0.68       183\n",
            "        dog_bark       0.84      0.73      0.78       201\n",
            "        drilling       0.80      0.77      0.78       206\n",
            "   engine_idling       0.89      0.94      0.92       193\n",
            "        gun_shot       0.90      0.75      0.82        72\n",
            "      jackhammer       0.91      0.90      0.91       208\n",
            "           siren       0.84      0.95      0.89       165\n",
            "    street_music       0.80      0.60      0.68       230\n",
            "\n",
            "        accuracy                           0.82      1747\n",
            "       macro avg       0.83      0.82      0.82      1747\n",
            "    weighted avg       0.82      0.82      0.81      1747\n",
            "\n"
          ]
        }
      ],
      "execution_count": 18
    },
    {
      "cell_type": "markdown",
      "source": [
        "## Δοκιμή Μοντέλου"
      ],
      "metadata": {
        "id": "77ozWvS-1kAD"
      }
    },
    {
      "cell_type": "code",
      "source": [
        "# Συνάρτηση για να φορτώσει ένα αρχείο ήχου και να εξάγει τα χαρακτηριστικά MFCC\n",
        "def load_and_prepare_audio(file_path):\n",
        "    mfccs = extract_features(file_path)  # Εξαγωγή χαρακτηριστικών MFCC\n",
        "    mfccs = mfccs.reshape(1, 40, 1, 1)  # Αναδιάταξη για το μοντέλο\n",
        "    return mfccs\n",
        "\n",
        "# Διαδρομή του αρχείο ήχου\n",
        "audio_file_path = '/root/.cache/kagglehub/datasets/chrisfilo/urbansound8k/versions/1/fold1/102305-6-0-0.wav'  # Αντικαταστήστε με τη διαδρομή του αρχείου ήχου σας\n",
        "\n",
        "# Φόρτωση και προετοιμασία του ήχου\n",
        "audio_features = load_and_prepare_audio(audio_file_path)\n",
        "\n",
        "# Προβλέψεις\n",
        "predictions = model.predict(audio_features)\n",
        "predicted_class = np.argmax(predictions, axis=1)  # Πάρε το δείκτη της κλάσης με τη μεγαλύτερη πιθανότητα\n",
        "\n",
        "# Αποκωδικοποίηση της προβλεπόμενης κλάσης\n",
        "predicted_label = le.inverse_transform(predicted_class)  # Μετατροπή του δείκτη πίσω στην αρχική ετικέτα της κλάσης\n",
        "\n",
        "print(f\"Η προβλεπόμενη ετικέτα για τον ήχο είναι: {predicted_label[0]}\")\n"
      ],
      "metadata": {
        "execution": {
          "iopub.status.busy": "2024-10-15T16:06:32.966007Z",
          "iopub.execute_input": "2024-10-15T16:06:32.966876Z",
          "iopub.status.idle": "2024-10-15T16:06:33.360822Z",
          "shell.execute_reply.started": "2024-10-15T16:06:32.966828Z",
          "shell.execute_reply": "2024-10-15T16:06:33.359952Z"
        },
        "trusted": true,
        "id": "oChltBzQ1kAH",
        "outputId": "4134f7cc-1698-4533-f9ff-d914864be591",
        "colab": {
          "base_uri": "https://localhost:8080/",
          "height": 0
        }
      },
      "outputs": [
        {
          "output_type": "stream",
          "name": "stdout",
          "text": [
            "\u001b[1m1/1\u001b[0m \u001b[32m━━━━━━━━━━━━━━━━━━━━\u001b[0m\u001b[37m\u001b[0m \u001b[1m0s\u001b[0m 64ms/step\n",
            "Η προβλεπόμενη ετικέτα για τον ήχο είναι: children_playing\n"
          ]
        }
      ],
      "execution_count": 25
    },
    {
      "cell_type": "markdown",
      "source": [
        "## Αποθήκευση"
      ],
      "metadata": {
        "id": "eVEe1NdC1kAH"
      }
    },
    {
      "cell_type": "code",
      "source": [
        "# Αποθήκευση μοντέλου\n",
        "model.save('urban_sound_model.h5')"
      ],
      "metadata": {
        "execution": {
          "iopub.status.busy": "2024-10-15T16:06:33.361957Z",
          "iopub.execute_input": "2024-10-15T16:06:33.362846Z",
          "iopub.status.idle": "2024-10-15T16:06:33.404852Z",
          "shell.execute_reply.started": "2024-10-15T16:06:33.362806Z",
          "shell.execute_reply": "2024-10-15T16:06:33.40394Z"
        },
        "trusted": true,
        "id": "vaxaiuc01kAH",
        "outputId": "3cb9bcaa-39ea-467c-fe94-b4175d57af91",
        "colab": {
          "base_uri": "https://localhost:8080/",
          "height": 0
        }
      },
      "outputs": [
        {
          "output_type": "stream",
          "name": "stderr",
          "text": [
            "WARNING:absl:You are saving your model as an HDF5 file via `model.save()` or `keras.saving.save_model(model)`. This file format is considered legacy. We recommend using instead the native Keras format, e.g. `model.save('my_model.keras')` or `keras.saving.save_model(model, 'my_model.keras')`. \n"
          ]
        }
      ],
      "execution_count": 22
    },
    {
      "cell_type": "code",
      "source": [
        "# Αποθήκευση κλάσεων\n",
        "np.save('classes.npy', le.classes_)"
      ],
      "metadata": {
        "execution": {
          "iopub.status.busy": "2024-10-15T16:06:33.405969Z",
          "iopub.execute_input": "2024-10-15T16:06:33.40631Z",
          "iopub.status.idle": "2024-10-15T16:06:33.411011Z",
          "shell.execute_reply.started": "2024-10-15T16:06:33.406277Z",
          "shell.execute_reply": "2024-10-15T16:06:33.410052Z"
        },
        "trusted": true,
        "id": "J5BJV2hu1kAH"
      },
      "outputs": [],
      "execution_count": 23
    }
  ]
}